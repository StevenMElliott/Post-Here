{
 "cells": [
  {
   "cell_type": "code",
   "execution_count": 1,
   "metadata": {},
   "outputs": [],
   "source": [
    "import pandas as pd"
   ]
  },
  {
   "cell_type": "code",
   "execution_count": 2,
   "metadata": {},
   "outputs": [
    {
     "data": {
      "text/html": [
       "<div>\n",
       "<style scoped>\n",
       "    .dataframe tbody tr th:only-of-type {\n",
       "        vertical-align: middle;\n",
       "    }\n",
       "\n",
       "    .dataframe tbody tr th {\n",
       "        vertical-align: top;\n",
       "    }\n",
       "\n",
       "    .dataframe thead th {\n",
       "        text-align: right;\n",
       "    }\n",
       "</style>\n",
       "<table border=\"1\" class=\"dataframe\">\n",
       "  <thead>\n",
       "    <tr style=\"text-align: right;\">\n",
       "      <th></th>\n",
       "      <th>2</th>\n",
       "      <th>3</th>\n",
       "      <th>subreddit</th>\n",
       "    </tr>\n",
       "  </thead>\n",
       "  <tbody>\n",
       "    <tr>\n",
       "      <th>0</th>\n",
       "      <td>Good ending for the show</td>\n",
       "      <td>I think all the characters who are guilty of s...</td>\n",
       "      <td>13ReasonsWhy</td>\n",
       "    </tr>\n",
       "    <tr>\n",
       "      <th>1</th>\n",
       "      <td>Timothee Chalamet rap</td>\n",
       "      <td>Has anyone else seen this? It gives me a whole...</td>\n",
       "      <td>13ReasonsWhy</td>\n",
       "    </tr>\n",
       "    <tr>\n",
       "      <th>2</th>\n",
       "      <td>Ross Brandon and Alisha describe season 4 in 3...</td>\n",
       "      <td>Young Hollywood featured those three describin...</td>\n",
       "      <td>13ReasonsWhy</td>\n",
       "    </tr>\n",
       "    <tr>\n",
       "      <th>3</th>\n",
       "      <td>Closer to Season 4 Release Date?</td>\n",
       "      <td>I don't know if anyone noticed, but according ...</td>\n",
       "      <td>13ReasonsWhy</td>\n",
       "    </tr>\n",
       "    <tr>\n",
       "      <th>4</th>\n",
       "      <td>Monty's sexuality</td>\n",
       "      <td>imagine that Monty is not dead and everyone su...</td>\n",
       "      <td>13ReasonsWhy</td>\n",
       "    </tr>\n",
       "  </tbody>\n",
       "</table>\n",
       "</div>"
      ],
      "text/plain": [
       "                                                   2  \\\n",
       "0                           Good ending for the show   \n",
       "1                              Timothee Chalamet rap   \n",
       "2  Ross Brandon and Alisha describe season 4 in 3...   \n",
       "3                   Closer to Season 4 Release Date?   \n",
       "4                                  Monty's sexuality   \n",
       "\n",
       "                                                   3     subreddit  \n",
       "0  I think all the characters who are guilty of s...  13ReasonsWhy  \n",
       "1  Has anyone else seen this? It gives me a whole...  13ReasonsWhy  \n",
       "2  Young Hollywood featured those three describin...  13ReasonsWhy  \n",
       "3  I don't know if anyone noticed, but according ...  13ReasonsWhy  \n",
       "4  imagine that Monty is not dead and everyone su...  13ReasonsWhy  "
      ]
     },
     "execution_count": 2,
     "metadata": {},
     "output_type": "execute_result"
    }
   ],
   "source": [
    "df = pd.read_csv('tokenized_df.csv')\n",
    "df = df.drop(columns=['Unnamed: 0','title_tokens', 'post_tokens'])\n",
    "df.head()"
   ]
  },
  {
   "cell_type": "code",
   "execution_count": 3,
   "metadata": {},
   "outputs": [
    {
     "data": {
      "text/html": [
       "<div>\n",
       "<style scoped>\n",
       "    .dataframe tbody tr th:only-of-type {\n",
       "        vertical-align: middle;\n",
       "    }\n",
       "\n",
       "    .dataframe tbody tr th {\n",
       "        vertical-align: top;\n",
       "    }\n",
       "\n",
       "    .dataframe thead th {\n",
       "        text-align: right;\n",
       "    }\n",
       "</style>\n",
       "<table border=\"1\" class=\"dataframe\">\n",
       "  <thead>\n",
       "    <tr style=\"text-align: right;\">\n",
       "      <th></th>\n",
       "      <th>2</th>\n",
       "      <th>3</th>\n",
       "      <th>subreddit</th>\n",
       "      <th>body</th>\n",
       "    </tr>\n",
       "  </thead>\n",
       "  <tbody>\n",
       "    <tr>\n",
       "      <th>0</th>\n",
       "      <td>Good ending for the show</td>\n",
       "      <td>I think all the characters who are guilty of s...</td>\n",
       "      <td>13ReasonsWhy</td>\n",
       "      <td>Good ending for the show I think all the chara...</td>\n",
       "    </tr>\n",
       "    <tr>\n",
       "      <th>1</th>\n",
       "      <td>Timothee Chalamet rap</td>\n",
       "      <td>Has anyone else seen this? It gives me a whole...</td>\n",
       "      <td>13ReasonsWhy</td>\n",
       "      <td>Timothee Chalamet rap Has anyone else seen thi...</td>\n",
       "    </tr>\n",
       "    <tr>\n",
       "      <th>2</th>\n",
       "      <td>Ross Brandon and Alisha describe season 4 in 3...</td>\n",
       "      <td>Young Hollywood featured those three describin...</td>\n",
       "      <td>13ReasonsWhy</td>\n",
       "      <td>Ross Brandon and Alisha describe season 4 in 3...</td>\n",
       "    </tr>\n",
       "    <tr>\n",
       "      <th>3</th>\n",
       "      <td>Closer to Season 4 Release Date?</td>\n",
       "      <td>I don't know if anyone noticed, but according ...</td>\n",
       "      <td>13ReasonsWhy</td>\n",
       "      <td>Closer to Season 4 Release Date? I don't know ...</td>\n",
       "    </tr>\n",
       "    <tr>\n",
       "      <th>4</th>\n",
       "      <td>Monty's sexuality</td>\n",
       "      <td>imagine that Monty is not dead and everyone su...</td>\n",
       "      <td>13ReasonsWhy</td>\n",
       "      <td>Monty's sexuality imagine that Monty is not de...</td>\n",
       "    </tr>\n",
       "  </tbody>\n",
       "</table>\n",
       "</div>"
      ],
      "text/plain": [
       "                                                   2  \\\n",
       "0                           Good ending for the show   \n",
       "1                              Timothee Chalamet rap   \n",
       "2  Ross Brandon and Alisha describe season 4 in 3...   \n",
       "3                   Closer to Season 4 Release Date?   \n",
       "4                                  Monty's sexuality   \n",
       "\n",
       "                                                   3     subreddit  \\\n",
       "0  I think all the characters who are guilty of s...  13ReasonsWhy   \n",
       "1  Has anyone else seen this? It gives me a whole...  13ReasonsWhy   \n",
       "2  Young Hollywood featured those three describin...  13ReasonsWhy   \n",
       "3  I don't know if anyone noticed, but according ...  13ReasonsWhy   \n",
       "4  imagine that Monty is not dead and everyone su...  13ReasonsWhy   \n",
       "\n",
       "                                                body  \n",
       "0  Good ending for the show I think all the chara...  \n",
       "1  Timothee Chalamet rap Has anyone else seen thi...  \n",
       "2  Ross Brandon and Alisha describe season 4 in 3...  \n",
       "3  Closer to Season 4 Release Date? I don't know ...  \n",
       "4  Monty's sexuality imagine that Monty is not de...  "
      ]
     },
     "execution_count": 3,
     "metadata": {},
     "output_type": "execute_result"
    }
   ],
   "source": [
    "df['body'] = df['2'] + ' ' + df['3']\n",
    "df.head()"
   ]
  },
  {
   "cell_type": "code",
   "execution_count": 4,
   "metadata": {},
   "outputs": [],
   "source": [
    "df = df.drop(columns=['3', '2'])"
   ]
  },
  {
   "cell_type": "code",
   "execution_count": 6,
   "metadata": {},
   "outputs": [],
   "source": [
    "from sklearn.feature_extraction.text import TfidfTransformer\n",
    "from sklearn.linear_model import SGDClassifier\n",
    "from sklearn.feature_extraction.text import CountVectorizer\n",
    "from sklearn.pipeline import Pipeline\n",
    "text_clf = Pipeline([\n",
    "    ('vect', CountVectorizer()),\n",
    "    ('tfidf', TfidfTransformer()),\n",
    "    ('clf', SGDClassifier()),\n",
    "    ])"
   ]
  },
  {
   "cell_type": "code",
   "execution_count": 7,
   "metadata": {},
   "outputs": [],
   "source": [
    "from sklearn.model_selection import train_test_split\n",
    "X = df.body\n",
    "y = df.subreddit\n",
    "X_train, X_test, y_train, y_test = train_test_split(X, y, test_size=0.01, random_state=42, stratify=y)"
   ]
  },
  {
   "cell_type": "code",
   "execution_count": 8,
   "metadata": {},
   "outputs": [
    {
     "data": {
      "text/plain": [
       "depression       39\n",
       "Advice           36\n",
       "tipofmytongue    35\n",
       "UnsentLetters    34\n",
       "ADHD             33\n",
       "                 ..\n",
       "galaxynote10     10\n",
       "Hue              10\n",
       "rap              10\n",
       "CBD              10\n",
       "Trove            10\n",
       "Name: subreddit, Length: 637, dtype: int64"
      ]
     },
     "execution_count": 8,
     "metadata": {},
     "output_type": "execute_result"
    }
   ],
   "source": [
    "y_test.value_counts()"
   ]
  },
  {
   "cell_type": "code",
   "execution_count": 9,
   "metadata": {},
   "outputs": [
    {
     "name": "stderr",
     "output_type": "stream",
     "text": [
      "F:\\anacondaclean\\envs\\NLPClean\\lib\\site-packages\\sklearn\\linear_model\\stochastic_gradient.py:166: FutureWarning: max_iter and tol parameters have been added in SGDClassifier in 0.19. If both are left unset, they default to max_iter=5 and tol=None. If tol is not None, max_iter defaults to max_iter=1000. From 0.21, default max_iter will be 1000, and default tol will be 1e-3.\n",
      "  FutureWarning)\n"
     ]
    },
    {
     "data": {
      "text/plain": [
       "Pipeline(memory=None,\n",
       "     steps=[('vect', CountVectorizer(analyzer='word', binary=False, decode_error='strict',\n",
       "        dtype=<class 'numpy.int64'>, encoding='utf-8', input='content',\n",
       "        lowercase=True, max_df=1.0, max_features=None, min_df=1,\n",
       "        ngram_range=(1, 1), preprocessor=None, stop_words=None,\n",
       "        strip...m_state=None, shuffle=True, tol=None,\n",
       "       validation_fraction=0.1, verbose=0, warm_start=False))])"
      ]
     },
     "execution_count": 9,
     "metadata": {},
     "output_type": "execute_result"
    }
   ],
   "source": [
    "text_clf.fit(X_test, y_test)"
   ]
  },
  {
   "cell_type": "code",
   "execution_count": 10,
   "metadata": {},
   "outputs": [
    {
     "ename": "NameError",
     "evalue": "name 'np' is not defined",
     "output_type": "error",
     "traceback": [
      "\u001b[1;31m---------------------------------------------------------------------------\u001b[0m",
      "\u001b[1;31mNameError\u001b[0m                                 Traceback (most recent call last)",
      "\u001b[1;32m<ipython-input-10-e84a8ed5b1a3>\u001b[0m in \u001b[0;36m<module>\u001b[1;34m\u001b[0m\n\u001b[1;32m----> 1\u001b[1;33m \u001b[0mtest_post\u001b[0m \u001b[1;33m=\u001b[0m \u001b[0mnp\u001b[0m\u001b[1;33m.\u001b[0m\u001b[0marray\u001b[0m\u001b[1;33m(\u001b[0m\u001b[1;33m[\u001b[0m\u001b[1;34m\"Program issue I’m a first year economics 1 student. If I want to major in anthropology next year, do I still have to take the Econ/math courses required for economics? Idk if I should keep them or not because I won’t use any of them next year\"\u001b[0m\u001b[1;33m]\u001b[0m\u001b[1;33m)\u001b[0m\u001b[1;33m\u001b[0m\u001b[1;33m\u001b[0m\u001b[0m\n\u001b[0m\u001b[0;32m      2\u001b[0m \u001b[0mtext_clf\u001b[0m\u001b[1;33m.\u001b[0m\u001b[0mpredict\u001b[0m\u001b[1;33m(\u001b[0m\u001b[0mtest_post\u001b[0m\u001b[1;33m)\u001b[0m\u001b[1;33m\u001b[0m\u001b[1;33m\u001b[0m\u001b[0m\n",
      "\u001b[1;31mNameError\u001b[0m: name 'np' is not defined"
     ]
    }
   ],
   "source": [
    "test_post = np.array([\"Program issue I’m a first year economics 1 student. If I want to major in anthropology next year, do I still have to take the Econ/math courses required for economics? Idk if I should keep them or not because I won’t use any of them next year\"])\n",
    "text_clf.predict(test_post)"
   ]
  },
  {
   "cell_type": "code",
   "execution_count": 12,
   "metadata": {},
   "outputs": [],
   "source": [
    "import pickle\n",
    "with open('model1.pickle', 'wb') as handle:\n",
    "    pickle.dump(text_clf, handle, protocol=pickle.HIGHEST_PROTOCOL)"
   ]
  },
  {
   "cell_type": "code",
   "execution_count": 13,
   "metadata": {},
   "outputs": [
    {
     "data": {
      "text/plain": [
       "Pipeline(memory=None,\n",
       "     steps=[('vect', CountVectorizer(analyzer='word', binary=False, decode_error='strict',\n",
       "        dtype=<class 'numpy.int64'>, encoding='utf-8', input='content',\n",
       "        lowercase=True, max_df=1.0, max_features=None, min_df=1,\n",
       "        ngram_range=(1, 1), preprocessor=None, stop_words=None,\n",
       "        strip...m_state=None, shuffle=True, tol=None,\n",
       "       validation_fraction=0.1, verbose=0, warm_start=False))])"
      ]
     },
     "execution_count": 13,
     "metadata": {},
     "output_type": "execute_result"
    }
   ],
   "source": [
    "with open('model.pickle', 'rb') as handle:\n",
    "    model = pickle.load(handle)\n",
    "    \n",
    "model"
   ]
  },
  {
   "cell_type": "code",
   "execution_count": 14,
   "metadata": {},
   "outputs": [
    {
     "data": {
      "text/plain": [
       "array(['PoliticalDiscussion'], dtype='<U20')"
      ]
     },
     "execution_count": 14,
     "metadata": {},
     "output_type": "execute_result"
    }
   ],
   "source": [
    "model.predict(['Elizabeth Warren should be president. She is the best candidate'])"
   ]
  },
  {
   "cell_type": "code",
   "execution_count": null,
   "metadata": {},
   "outputs": [],
   "source": []
  }
 ],
 "metadata": {
  "kernelspec": {
   "display_name": "Python 3",
   "language": "python",
   "name": "python3"
  },
  "language_info": {
   "codemirror_mode": {
    "name": "ipython",
    "version": 3
   },
   "file_extension": ".py",
   "mimetype": "text/x-python",
   "name": "python",
   "nbconvert_exporter": "python",
   "pygments_lexer": "ipython3",
   "version": "3.7.6"
  }
 },
 "nbformat": 4,
 "nbformat_minor": 4
}
